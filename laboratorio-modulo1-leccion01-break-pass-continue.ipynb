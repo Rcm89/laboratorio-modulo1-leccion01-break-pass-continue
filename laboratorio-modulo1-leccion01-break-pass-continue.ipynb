{
 "cells": [
  {
   "cell_type": "markdown",
   "metadata": {},
   "source": [
    "\n",
    "<div style=\"text-align: center;\">\n",
    "  <img src=\"https://github.com/Hack-io-Data/Imagenes/blob/main/01-LogosHackio/logo_celeste@4x.png?raw=true\" alt=\"esquema\" />\n",
    "</div>\n"
   ]
  },
  {
   "cell_type": "markdown",
   "metadata": {},
   "source": [
    "# Laboratorio de Python: break(), pass(), continue()"
   ]
  },
  {
   "cell_type": "markdown",
   "metadata": {},
   "source": [
    "## Ejercicio 1: Validación de datos numéricos. \n",
    "\n",
    "Escribe un bucle que lea una lista de números y detenga la ejecución si encuentra un valor negativo. Muestra un mensaje indicando el número negativo encontrado.\n"
   ]
  },
  {
   "cell_type": "code",
   "execution_count": 2,
   "metadata": {},
   "outputs": [
    {
     "name": "stdout",
     "output_type": "stream",
     "text": [
      "Hemos encontrado el siguiente número negativo en la lista: -2\n"
     ]
    }
   ],
   "source": [
    "lista_numeros = [1, 3, -2, 8, 10]\n",
    "for numero in lista_numeros:\n",
    "    if (numero>=0):\n",
    "        pass\n",
    "    else:\n",
    "        print(\"Hemos encontrado el siguiente número negativo en la lista:\", numero)\n",
    "        break\n",
    "        print(\"Si se imprime esto es que la he cagado en algo\")\n",
    "\n"
   ]
  },
  {
   "cell_type": "markdown",
   "metadata": {},
   "source": [
    "\n",
    "## Ejercicio 2: Filtrado de datos\n",
    "\n",
    "Escribe un bucle que imprima los números de una lista, pero que omita los números pares.\n"
   ]
  },
  {
   "cell_type": "code",
   "execution_count": null,
   "metadata": {},
   "outputs": [],
   "source": []
  },
  {
   "cell_type": "code",
   "execution_count": 18,
   "metadata": {},
   "outputs": [
    {
     "name": "stdout",
     "output_type": "stream",
     "text": [
      "[1, 3, 5]\n"
     ]
    }
   ],
   "source": [
    "lista_numeros = [1, 3, 2, 8, 5]\n",
    "lista_sin_pares = []\n",
    "for numero in lista_numeros:\n",
    "    if (numero % 2 != 0):\n",
    "        lista_sin_pares.append(numero)\n",
    "\n",
    "    else:\n",
    "        pass\n",
    "print(lista_sin_pares)\n"
   ]
  },
  {
   "cell_type": "markdown",
   "metadata": {},
   "source": [
    "## Ejercicio 3: Búsqueda de un valor\n",
    "\n",
    "Escribe un programa que busque un valor específico en una lista y detenga la búsqueda cuando lo encuentre. Si se encuentra, muestra un mensaje.\n"
   ]
  },
  {
   "cell_type": "code",
   "execution_count": 21,
   "metadata": {},
   "outputs": [
    {
     "name": "stdout",
     "output_type": "stream",
     "text": [
      "He encontrado el valor: 5\n"
     ]
    }
   ],
   "source": [
    "lista = [2, -3, 5, 6]\n",
    "valor_especifico = 5\n",
    "for numero in lista:\n",
    "    if (valor_especifico == numero):\n",
    "        print(\"He encontrado el valor:\", valor_especifico)\n",
    "        break\n",
    "    else:\n",
    "        pass\n",
    "\n"
   ]
  },
  {
   "cell_type": "markdown",
   "metadata": {},
   "source": [
    "## Ejercicio 4: Estructura de código incompleto\n",
    "\n",
    "Define una función que aún no tenga lógica implementada, pero que se pueda ejecutar sin errores utilizando `pass`."
   ]
  },
  {
   "cell_type": "code",
   "execution_count": 1,
   "metadata": {},
   "outputs": [],
   "source": [
    "def funcion_incompleta(args):\n",
    "    pass"
   ]
  },
  {
   "cell_type": "markdown",
   "metadata": {},
   "source": [
    "## Ejercicio 5: Validación condicional\n",
    "\n",
    "Escribe un bucle que verifique una lista de nombres. Si encuentra un nombre vacío (cadena vacía), salta esa iteración y continúa con los demás nombres.\n"
   ]
  },
  {
   "cell_type": "code",
   "execution_count": 2,
   "metadata": {},
   "outputs": [
    {
     "name": "stdout",
     "output_type": "stream",
     "text": [
      "True\n",
      "True\n",
      "True\n"
     ]
    }
   ],
   "source": [
    "lista_nombres = [\"Rafael\", \"Amalia\", \"\", \"Mercedes\"]\n",
    "for nombre in lista_nombres:\n",
    "    if (nombre == \"\"):\n",
    "        continue\n",
    "        print(\"Si imprime esto es que la he cagado en algo\")\n",
    "    else:\n",
    "        print(True)\n"
   ]
  },
  {
   "cell_type": "markdown",
   "metadata": {},
   "source": [
    "## Ejercicio 6: Búsqueda de claves en un diccionario\n",
    "\n",
    "Escribe un programa que recorra un diccionario y detenga la búsqueda si encuentra una clave específica pasada por el usuario.\n"
   ]
  },
  {
   "cell_type": "code",
   "execution_count": 5,
   "metadata": {},
   "outputs": [
    {
     "name": "stdout",
     "output_type": "stream",
     "text": [
      "Clave no encontrada.\n"
     ]
    }
   ],
   "source": [
    "mi_diccionario_ciclista = {\n",
    "    'nombre': 'Tadej Pogacar',\n",
    "    'edad': 26,\n",
    "    'País': 'Eslovenia',\n",
    "    'profesión': 'Team UAE'\n",
    "}\n",
    "\n",
    "clave_usuario = input(\"Ingresa la clave que buscas: \")\n",
    "\n",
    "for clave, valor in mi_diccionario_ciclista.items():\n",
    "    if clave == clave_usuario:\n",
    "        print(f\"Clave encontrada: {clave} -> {valor}\")\n",
    "        break\n",
    "else:\n",
    "    print(\"Clave no encontrada.\")\n"
   ]
  },
  {
   "cell_type": "markdown",
   "metadata": {},
   "source": [
    "## Ejercicio 7: Bucle con múltiples excepciones\n",
    "\n",
    "Escribe un bucle que procese una lista de operaciones matemáticas, omitiendo las operaciones que intenten dividir por cero.\n"
   ]
  },
  {
   "cell_type": "code",
   "execution_count": 6,
   "metadata": {},
   "outputs": [],
   "source": [
    "lista_operaciones= [\"suma\", \"resta\", \"multiplicacion\", \"division\"]\n",
    "a=int(input(\"Intoduce un numero: \"))\n",
    "b=int(input(\"Intoduce otro numero: \"))\n",
    "for operacion in lista_operaciones:\n",
    "    if operacion == \"suma\":\n",
    "        suma_numeros= a + b  \n",
    "    elif operacion == \"resta\":\n",
    "        resta_numeros = a - b\n",
    "    elif operacion == \"producto\":\n",
    "        multiplicacion = a * b\n",
    "    elif operacion == \"division\":\n",
    "        if b == 0:\n",
    "            continue\n",
    "        else: \n",
    "            a/b"
   ]
  },
  {
   "cell_type": "markdown",
   "metadata": {},
   "source": [
    "## Ejercicio 8: Búsqueda en una lista anidada\n",
    "\n",
    "Escribe un programa que recorra una lista de listas y detenga la búsqueda cuando encuentre un valor mayor a 50.\n"
   ]
  },
  {
   "cell_type": "code",
   "execution_count": 12,
   "metadata": {},
   "outputs": [
    {
     "name": "stdout",
     "output_type": "stream",
     "text": [
      "Se ha econtrado un valor mayor a 50 encontrado:  59\n"
     ]
    }
   ],
   "source": [
    "lista_anidada = [[2, 15, 8], [18, 7, 32], [59, 11, 44],[20, 1, 34]]\n",
    "encontrado = False\n",
    "for sublista in lista_anidada:\n",
    "    for numero in sublista:\n",
    "        if numero > 50:\n",
    "            print(\"Se ha econtrado un valor mayor a 50: \", numero)\n",
    "            encontrado = True\n",
    "            break  # Detenemos la búsqueda en la sublista\n",
    "    if encontrado:\n",
    "        break  # Detenemos la búsqueda en la lista principal\n"
   ]
  },
  {
   "cell_type": "markdown",
   "metadata": {},
   "source": [
    "## Ejercicio 9: Evaluación de series temporales\n",
    "\n",
    "Escribe un programa que recorra una lista de datos de series temporales y se detenga si encuentra un valor atípico (mayor a 100).\n"
   ]
  },
  {
   "cell_type": "code",
   "execution_count": 14,
   "metadata": {},
   "outputs": [
    {
     "name": "stdout",
     "output_type": "stream",
     "text": [
      "Se ha encontrado un valor atípico en la posición 6: 102\n"
     ]
    }
   ],
   "source": [
    "series_temporales = [18, 82, 70, 51, 17, 102, 85, 25]\n",
    "for indice, valor in enumerate(series_temporales):\n",
    "    if valor > 100:  # Verificar si el valor es mayor a 100\n",
    "        print(f\"Se ha encontrado un valor atípico en la posición {indice+1}: {valor}\")\n",
    "        break  # Detiene el bucle cuando se encuentra un valor mayor a 100\n",
    "else:\n",
    "    print(\"No se han encontrado valores atípicos.\")\n"
   ]
  },
  {
   "cell_type": "markdown",
   "metadata": {},
   "source": [
    "## Ejercicio 10: Iteración con valores faltantes\n",
    "\n",
    "Crea un bucle que recorra una lista de datos de ventas y salte los valores faltantes representados por `None`."
   ]
  },
  {
   "cell_type": "code",
   "execution_count": 17,
   "metadata": {},
   "outputs": [
    {
     "name": "stdout",
     "output_type": "stream",
     "text": [
      " Hay venta en la posición 1: 120\n",
      " Hay venta en la posición 2: 340\n",
      " Hay venta en la posición 4: 560\n",
      " Hay venta en la posición 5: 450\n",
      " Hay venta en la posición 7: 780\n",
      " Hay venta en la posición 8: 620\n",
      " Hay venta en la posición 10: 910\n"
     ]
    }
   ],
   "source": [
    "lista_ventas = [120, 340, None, 560, 450, None, 780, 620, None, 910]\n",
    "for indice, valor in enumerate(lista_ventas):\n",
    "    if valor is None:  \n",
    "        continue  \n",
    "    print(f\" Hay venta en la posición {indice+1}: {valor}\")\n"
   ]
  },
  {
   "cell_type": "markdown",
   "metadata": {},
   "source": [
    "## Ejercicio 11: Control de flujo en bucles anidados\n",
    "\n",
    "Escribe un bucle que recorra la matriz dada y se detenga si se encuentra un número negativo, mostrando su posición.\n",
    "\n"
   ]
  },
  {
   "cell_type": "code",
   "execution_count": 1,
   "metadata": {},
   "outputs": [
    {
     "name": "stdout",
     "output_type": "stream",
     "text": [
      "Hemos encontrado un número negativo en la posición (2, 1): -5\n"
     ]
    }
   ],
   "source": [
    "matriz = [[6, 9, 8], [-5, 2, 14], [16, 7, 19]] #Representamos la matriz como una lista anidada\n",
    "encontrado = False\n",
    "for i, sublista in enumerate(matriz):\n",
    "    for j, valor in enumerate(sublista):\n",
    "        if valor < 0:\n",
    "            print(f\"Hemos encontrado un número negativo en la posición ({i+1}, {j+1}): {valor}\")\n",
    "            encontrado = True\n",
    "            break \n",
    "    if encontrado:\n",
    "        break\n"
   ]
  },
  {
   "cell_type": "markdown",
   "metadata": {},
   "source": [
    "## Ejercicio 12: Placeholder para funciones incompletas\n",
    "\n",
    "Escribe una función que tenga un bloque de control que aún no esté implementado, utilizando `pass` para que no genere errores."
   ]
  },
  {
   "cell_type": "code",
   "execution_count": 20,
   "metadata": {},
   "outputs": [
    {
     "name": "stdout",
     "output_type": "stream",
     "text": [
      "controlando el evento de clic...\n",
      "Controlando el  evento de deslizar...\n",
      "Controlando el evento de pulsación de tecla...\n"
     ]
    }
   ],
   "source": [
    "def controlar_evento(evento):\n",
    "    if evento == \"click\":\n",
    "        print(\"controlando el evento de clic...\")\n",
    "        # Código para controlar el clic\n",
    "    elif evento == \"tecla\":\n",
    "        print(\"Controlando el evento de pulsación de tecla...\")\n",
    "        # Código para controlar la pulsación de tecla\n",
    "    elif evento == \"deslizar\":\n",
    "        print(\"Controlando el  evento de deslizar...\")\n",
    "        # Este bloque aún no está implementado\n",
    "        pass\n",
    "    else:\n",
    "        print(\"Evento desconocido.\")\n",
    "\n",
    "# Ejemplos de llamada a la función\n",
    "controlar_evento(\"click\")\n",
    "controlar_evento(\"deslizar\")\n",
    "controlar_evento(\"tecla\")\n"
   ]
  }
 ],
 "metadata": {
  "kernelspec": {
   "display_name": "contenido",
   "language": "python",
   "name": "python3"
  },
  "language_info": {
   "codemirror_mode": {
    "name": "ipython",
    "version": 3
   },
   "file_extension": ".py",
   "mimetype": "text/x-python",
   "name": "python",
   "nbconvert_exporter": "python",
   "pygments_lexer": "ipython3",
   "version": "3.12.6"
  }
 },
 "nbformat": 4,
 "nbformat_minor": 2
}
